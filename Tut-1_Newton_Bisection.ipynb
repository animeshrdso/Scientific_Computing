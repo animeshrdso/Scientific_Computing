{
  "nbformat": 4,
  "nbformat_minor": 0,
  "metadata": {
    "colab": {
      "name": "MA311M_1.ipynb",
      "provenance": [],
      "collapsed_sections": []
    },
    "kernelspec": {
      "name": "python3",
      "display_name": "Python 3"
    }
  },
  "cells": [
    {
      "cell_type": "code",
      "metadata": {
        "id": "dms9IlvI29L4"
      },
      "source": [
        "import numpy as np\n",
        "import matplotlib.pyplot as plt\n",
        "import pandas\n",
        "import math\n",
        "from numpy.linalg import inv\n",
        "%matplotlib inline"
      ],
      "execution_count": 49,
      "outputs": []
    },
    {
      "cell_type": "code",
      "metadata": {
        "id": "xFNZQz52U5jH"
      },
      "source": [
        "def f(x):\n",
        "  prob = np.exp(-x) - np.sin(x)\n",
        "  return prob\n",
        "def f_p(x):\n",
        "  prob_p = -1*np.exp(-x) - np.cos(x)\n",
        "  return prob_p\n",
        "def f_2p(x):\n",
        "  return np.exp(-x)+np.sin(x)"
      ],
      "execution_count": 50,
      "outputs": []
    },
    {
      "cell_type": "code",
      "metadata": {
        "id": "oZakxxVN-DqJ",
        "outputId": "04001b46-a04d-4fab-bb17-8e40a63ba75b",
        "colab": {
          "base_uri": "https://localhost:8080/",
          "height": 69
        }
      },
      "source": [
        "#Question 1\n",
        "# NMR to find the smallest positive zero of (e^-x) - sinx\n",
        "# Bisection method\n",
        "An = 0\n",
        "Bn = 1\n",
        "a =[]\n",
        "b =[]\n",
        "c =[]\n",
        "for i in range(3):\n",
        "  a.append(An)\n",
        "  b.append(Bn)\n",
        "  Cn = An + (Bn-An)/2\n",
        "  c.append(Cn)\n",
        "  if (f(An) * f(Cn))<0:\n",
        "    Bn = Cn\n",
        "  else:\n",
        "    An = Cn\n",
        "\n",
        "print(\"Cn =\", Cn)\n",
        "\n",
        "def out(x,errs):\n",
        "  rat = errs[-1]/(errs[-2] * errs[-2])\n",
        "  print(f\"Iteration {it} | x{it-1} = {x[-2]}\\t| x{it} = {x[-1]}\\t| Error = {errs[-1]}\\t| Ratio = {rat}\")\n",
        "\n",
        "x = [Cn]\n",
        "Xn = Cn\n",
        "epsilon = abs(f(Cn))\n",
        "errs = [epsilon]\n",
        "precision = 1e-5\n",
        "it = 1\n",
        "\n",
        "\n",
        "while(precision < epsilon):\n",
        "  # NRM starts by calculating the gradients\n",
        "  Xn = Xn -(f(Xn) / f_p(Xn))\n",
        "  epsilon = abs(f(Xn))\n",
        "  x.append(Xn)\n",
        "  errs.append(epsilon)\n",
        "  out(x, errs)\n",
        "  it += 1"
      ],
      "execution_count": 51,
      "outputs": [
        {
          "output_type": "stream",
          "text": [
            "Cn = 0.625\n",
            "Iteration 1 | x0 = 0.625\t| x1 = 0.5879810312888636\t| Error = 0.0007653378309184777\t| Ratio = 0.30815522679844287\n",
            "Iteration 2 | x1 = 0.5879810312888636\t| x2 = 0.5885326222081458\t| Error = 1.688876488659119e-07\t| Ratio = 0.2883311256186911\n"
          ],
          "name": "stdout"
        }
      ]
    },
    {
      "cell_type": "code",
      "metadata": {
        "id": "cYpv5cO26-uA",
        "outputId": "17f1fa23-40b5-481f-d8ef-7ef6b6630d99",
        "colab": {
          "base_uri": "https://localhost:8080/",
          "height": 565
        }
      },
      "source": [
        "#Verifying the order of convergence\n",
        "m = 0\n",
        "n = 1\n",
        "# Condition 1 f(m)*f(n)<0\n",
        "prod = f(m) * f(n)\n",
        "print(\"Prod = \",prod)\n",
        "# Condition 2\n",
        "#f'(x)!=0 for all x in the range [m,n]\n",
        "x=np.linspace(m,n,100)\n",
        "y=f_p(x)\n",
        "plt.scatter(x,y)\n",
        "plt.show()\n",
        "#Condition 3\n",
        "# f'(x) !=0 in [m,n] and f''(x) takes only positive values.\n",
        "y1=f_2p(x)\n",
        "plt.scatter(x,y1)\n",
        "plt.show()\n",
        "#Condition 4\n",
        "# abs(f(a)/f'(a))<b-a and abs(f(b)/f'(b))<b-a\n",
        "print(abs(f(m))/abs(f_p(m)))\n",
        "print(abs(f(n))/abs(f_p(n)))"
      ],
      "execution_count": 52,
      "outputs": [
        {
          "output_type": "stream",
          "text": [
            "Prod =  -0.47359154363645417\n"
          ],
          "name": "stdout"
        },
        {
          "output_type": "display_data",
          "data": {
            "image/png": "[encoded data removed]",
            "text/plain": [
              "<Figure size 432x288 with 1 Axes>"
            ]
          },
          "metadata": {
            "tags": [],
            "needs_background": "light"
          }
        },
        {
          "output_type": "display_data",
          "data": {
            "image/png": "[encoded data removed]",
            "text/plain": [
              "<Figure size 432x288 with 1 Axes>"
            ]
          },
          "metadata": {
            "tags": [],
            "needs_background": "light"
          }
        },
        {
          "output_type": "stream",
          "text": [
            "0.5\n",
            "0.5214722110196883\n"
          ],
          "name": "stdout"
        }
      ]
    },
    {
      "cell_type": "code",
      "metadata": {
        "id": "3qkl3tCMaCI0"
      },
      "source": [
        "# Question2 \n",
        "## Code to find the solution of the non-linear system:\n",
        "# sin(xy) + x-y = 0\n",
        "# ycos(xy) + 1 = 0\n",
        "# [x0,y0] = [1,2]"
      ],
      "execution_count": 53,
      "outputs": []
    },
    {
      "cell_type": "code",
      "metadata": {
        "id": "eX7v3WcdaCFJ"
      },
      "source": [
        "\"\"\"\n",
        "Creating all the functions and derivative functions\n",
        "\"\"\"\n",
        "def f(x,y):\n",
        "  f_1 = math.sin(x*y) + x-y\n",
        "  f_2 = y*math.cos(x*y) + 1\n",
        "  out = np.array([[f_1] , [f_2]])\n",
        "  return out\n",
        "def J(x,y):\n",
        "  df1_dx = y * math.cos(x*y) + 1\n",
        "  df1_dy = x * math.cos(x*y) - 1\n",
        "  df2_dx = -1* math.sin(x*y) *y*y\n",
        "  df2_dy = math.cos(x*y) - x*y*math.sin(x*y)\n",
        "  out = np.array([[df1_dx , df1_dy] , [df2_dx , df2_dy]])\n",
        "  return out  "
      ],
      "execution_count": 54,
      "outputs": []
    },
    {
      "cell_type": "code",
      "metadata": {
        "id": "vKxmUi9IaB9_",
        "outputId": "ed99ea8d-baf2-4a02-8c20-f4c2634f1796",
        "colab": {
          "base_uri": "https://localhost:8080/",
          "height": 389
        }
      },
      "source": [
        "X = [1]\n",
        "Y = [2]\n",
        "Xn = 1\n",
        "Yn = 2\n",
        "prec = 1e-3\n",
        "h = -inv(J(Xn,Yn))@f(Xn , Yn)\n",
        "epsilon = abs(h[0,0]) + abs(h[1,0])\n",
        "Hy = [h[1,0]]\n",
        "Hx = [h[0,0]]\n",
        "it = 0\n",
        "print(\"Epsilon = \" , epsilon)\n",
        "print(\"Iteration =\",it ,\":\",\"Xn = \", Xn , \"Yn = \", Yn)\n",
        "eps_history = []\n",
        "eps_history.append(epsilon)\n",
        "iter_history = []\n",
        "iter_history.append(it)\n",
        "while(prec < epsilon):\n",
        "  it += 1\n",
        "  Xn = Xn + Hx[-1]\n",
        "  Yn = Yn + Hy[-1]\n",
        "  X.append(Xn)\n",
        "  Y.append(Yn)\n",
        "  h = -inv(J(Xn,Yn))@f(Xn , Yn) \n",
        "  epsilon = abs(h[0,0]) + abs(h[1,0])\n",
        "  Hx.append(h[0,0])\n",
        "  Hy.append(h[1,0])\n",
        "  eps_history.append(epsilon)\n",
        "  iter_history.append(it)\n",
        "  print(\"Epsilon = \" , epsilon)\n",
        "  print(\"Iteration =\",it ,\":\",\"Xn = \", Xn , \"Yn = \", Yn)\n",
        "## Plotting the graph for epsilon uptill termination\n",
        "plt.plot(iter_history , eps_history)\n",
        "###End"
      ],
      "execution_count": 55,
      "outputs": [
        {
          "output_type": "stream",
          "text": [
            "Epsilon =  0.1342793568131237\n",
            "Iteration = 0 : Xn =  1 Yn =  2\n",
            "Epsilon =  0.008145022760953217\n",
            "Iteration = 1 : Xn =  1.0796647596918634 Yn =  1.9453854028787396\n",
            "Epsilon =  7.720275856921676e-05\n",
            "Iteration = 2 : Xn =  1.0861381518715252 Yn =  1.9437137722974482\n"
          ],
          "name": "stdout"
        },
        {
          "output_type": "execute_result",
          "data": {
            "text/plain": [
              "[<matplotlib.lines.Line2D at 0x7f06e1c1a7b8>]"
            ]
          },
          "metadata": {
            "tags": []
          },
          "execution_count": 55
        },
        {
          "output_type": "display_data",
          "data": {
            "image/png": "[encoded data removed]",
            "text/plain": [
              "<Figure size 432x288 with 1 Axes>"
            ]
          },
          "metadata": {
            "tags": [],
            "needs_background": "light"
          }
        }
      ]
    },
    {
      "cell_type": "code",
      "metadata": {
        "id": "mif0qF5QkbHm"
      },
      "source": [
        ""
      ],
      "execution_count": 55,
      "outputs": []
    }
  ]
}